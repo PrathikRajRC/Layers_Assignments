{
 "cells": [
  {
   "cell_type": "code",
   "execution_count": 1,
   "id": "06c276af",
   "metadata": {},
   "outputs": [
    {
     "name": "stdout",
     "output_type": "stream",
     "text": [
      "24\n",
      "Not Weird\n"
     ]
    }
   ],
   "source": [
    "# 1\n",
    "# IF-ELSE Assignment\n",
    "\n",
    "import math\n",
    "import os\n",
    "import random\n",
    "import re\n",
    "import sys\n",
    "\n",
    "\n",
    "\n",
    "n = int(input())\n",
    "if n % 2 == 0:\n",
    "    if n in range (2,6):\n",
    "        print(\"Not Weird\")\n",
    "    elif n in range (6,21):\n",
    "        print(\"Weird\")\n",
    "    elif n > 20:\n",
    "        print(\"Not Weird\")\n",
    "else:\n",
    "    print(\"Weird\")\n"
   ]
  },
  {
   "cell_type": "code",
   "execution_count": 5,
   "id": "114a6148",
   "metadata": {},
   "outputs": [
    {
     "name": "stdout",
     "output_type": "stream",
     "text": [
      "2002\n",
      "False\n"
     ]
    }
   ],
   "source": [
    "# 2\n",
    "# Write a Function\n",
    "\n",
    "def is_leap(year):\n",
    "    leap = False\n",
    "    if year % 400 == 0:\n",
    "        return True\n",
    "    if year % 100 == 0:\n",
    "        return False\n",
    "    if year % 4 == 0:\n",
    "        return True\n",
    "    else:\n",
    "        return False\n",
    "\n",
    "year = int(input())\n",
    "print(is_leap(year))"
   ]
  },
  {
   "cell_type": "code",
   "execution_count": 2,
   "id": "af3672c2",
   "metadata": {},
   "outputs": [
    {
     "name": "stdout",
     "output_type": "stream",
     "text": [
      "10\n",
      "20\n",
      "The sum is of two numbers :\n",
      "30\n",
      "The difference is of two numbers :\n",
      "-10\n",
      "The product is of two numbers :\n",
      "200\n"
     ]
    }
   ],
   "source": [
    "# 3\n",
    "# Arithmetic Operators\n",
    "\n",
    "a = int(input())\n",
    "b = int(input())\n",
    "\n",
    "print(\"The sum is of two numbers :\")\n",
    "print(a+b)\n",
    "print(\"The difference is of two numbers :\")\n",
    "print(a-b)\n",
    "print(\"The product is of two numbers :\")\n",
    "print(a*b)\n",
    "    \n",
    "    "
   ]
  },
  {
   "cell_type": "code",
   "execution_count": 2,
   "id": "125eaeeb",
   "metadata": {},
   "outputs": [
    {
     "name": "stdout",
     "output_type": "stream",
     "text": [
      "10\n",
      "5\n",
      "2\n",
      "2.0\n"
     ]
    }
   ],
   "source": [
    "# 4\n",
    "# Division\n",
    "\n",
    "a = int(input())\n",
    "b = int(input())\n",
    "    \n",
    "print(a // b )\n",
    "print(a/b)"
   ]
  },
  {
   "cell_type": "code",
   "execution_count": 5,
   "id": "cd2298df",
   "metadata": {},
   "outputs": [
    {
     "name": "stdout",
     "output_type": "stream",
     "text": [
      "8\n",
      "the numbers are :\n",
      "0\n",
      "1\n",
      "4\n",
      "9\n",
      "16\n",
      "25\n",
      "36\n",
      "49\n"
     ]
    }
   ],
   "source": [
    "# 5\n",
    "# Loops\n",
    "\n",
    "\n",
    "n = int(input())\n",
    "print(\"the numbers are :\")\n",
    "for i in range(n):\n",
    "    i = (i**2)\n",
    "    print(i)"
   ]
  },
  {
   "cell_type": "code",
   "execution_count": 2,
   "id": "3ebdfbae",
   "metadata": {
    "scrolled": true
   },
   "outputs": [
    {
     "name": "stdout",
     "output_type": "stream",
     "text": [
      "1\n",
      "2\n",
      "3\n",
      "2\n",
      "[[0, 0, 0], [0, 0, 1], [0, 0, 3], [0, 1, 0], [0, 1, 2], [0, 1, 3], [0, 2, 1], [0, 2, 2], [0, 2, 3], [1, 0, 0], [1, 0, 2], [1, 0, 3], [1, 1, 1], [1, 1, 2], [1, 1, 3], [1, 2, 0], [1, 2, 1], [1, 2, 2], [1, 2, 3]]\n"
     ]
    }
   ],
   "source": [
    "# 6\n",
    "# list Comprehensions\n",
    "x = int(input())\n",
    "y = int(input())\n",
    "z = int(input())\n",
    "n = int(input())\n",
    "\n",
    "print ([[a,b,c] for a in range(0,x+1) for b in range(0,y+1) for c in range(0,z+1) if a + b + c != n ])"
   ]
  },
  {
   "cell_type": "code",
   "execution_count": null,
   "id": "71aa94a8",
   "metadata": {},
   "outputs": [],
   "source": [
    "# 7\n",
    "# Find the Runner Up\n",
    "\n"
   ]
  }
 ],
 "metadata": {
  "kernelspec": {
   "display_name": "Python 3 (ipykernel)",
   "language": "python",
   "name": "python3"
  },
  "language_info": {
   "codemirror_mode": {
    "name": "ipython",
    "version": 3
   },
   "file_extension": ".py",
   "mimetype": "text/x-python",
   "name": "python",
   "nbconvert_exporter": "python",
   "pygments_lexer": "ipython3",
   "version": "3.9.7"
  }
 },
 "nbformat": 4,
 "nbformat_minor": 5
}
